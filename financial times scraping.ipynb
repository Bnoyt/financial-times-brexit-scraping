{
 "cells": [
  {
   "cell_type": "code",
   "execution_count": 1,
   "metadata": {},
   "outputs": [],
   "source": [
    "import pandas as pd\n",
    "import numpy as np\n",
    "import requests\n",
    "from tqdm import tqdm\n",
    "tqdm.pandas()\n",
    "\n",
    "import datetime"
   ]
  },
  {
   "cell_type": "code",
   "execution_count": 8,
   "metadata": {},
   "outputs": [
    {
     "name": "stderr",
     "output_type": "stream",
     "text": [
      "100%|██████████| 200/200 [01:16<00:00,  2.48it/s]\n"
     ]
    }
   ],
   "source": [
    "links = []\n",
    "pages = []\n",
    "\n",
    "for i in tqdm(range(1,201)):\n",
    "    a = requests.get(f\"https://www.ft.com/brexit?page={i}\")\n",
    "    f = str(a.content)\n",
    "    q = f.split('<div class=\"o-teaser__heading\"><a href=\"')\n",
    "    q = [s.split('data-trackable=\"heading-link\"')[0] for s in q]\n",
    "    q = q[1:-1]\n",
    "    for k in q:\n",
    "        links.append(k)\n",
    "        pages.append(i)"
   ]
  },
  {
   "cell_type": "code",
   "execution_count": 21,
   "metadata": {},
   "outputs": [],
   "source": [
    "df = pd.DataFrame({\n",
    "    'page':pages,\n",
    "    \"url\":links\n",
    "})"
   ]
  },
  {
   "cell_type": "code",
   "execution_count": 23,
   "metadata": {},
   "outputs": [],
   "source": [
    "df = df.drop_duplicates(\"url\")"
   ]
  },
  {
   "cell_type": "code",
   "execution_count": 27,
   "metadata": {},
   "outputs": [],
   "source": [
    "df.url = df.url.apply(lambda x: x.split('\"')[0])"
   ]
  },
  {
   "cell_type": "code",
   "execution_count": 30,
   "metadata": {},
   "outputs": [],
   "source": [
    "df.to_csv(\"articles.csv\",index=False)"
   ]
  },
  {
   "cell_type": "code",
   "execution_count": 2,
   "metadata": {},
   "outputs": [],
   "source": [
    "articles = pd.read_csv(\"articles.csv\")\n",
    "\n",
    "articles = articles[articles.url.str.contains('/content/')]"
   ]
  },
  {
   "cell_type": "code",
   "execution_count": 2,
   "metadata": {},
   "outputs": [],
   "source": [
    "import os\n",
    "import pandas as pd\n",
    "import numpy as np\n",
    "import requests\n",
    "from tqdm import tqdm\n",
    "from selenium import webdriver"
   ]
  },
  {
   "cell_type": "code",
   "execution_count": 3,
   "metadata": {},
   "outputs": [],
   "source": [
    "dirs = [\"/content/\" + d.split(\".\")[0] for d in dirs]"
   ]
  },
  {
   "cell_type": "code",
   "execution_count": 3,
   "metadata": {},
   "outputs": [],
   "source": [
    "articles = pd.read_csv(\"articles.csv\")\n",
    "\n",
    "articles = articles[articles.url.str.contains('/content/')]"
   ]
  },
  {
   "cell_type": "code",
   "execution_count": 5,
   "metadata": {},
   "outputs": [],
   "source": [
    "articles = articles[articles.url.isin(dirs) == False] "
   ]
  },
  {
   "cell_type": "code",
   "execution_count": 6,
   "metadata": {},
   "outputs": [],
   "source": [
    "driver = webdriver.Firefox()"
   ]
  },
  {
   "cell_type": "code",
   "execution_count": 7,
   "metadata": {},
   "outputs": [],
   "source": [
    "driver.get(\"https://accounts.ft.com/login\")"
   ]
  },
  {
   "cell_type": "code",
   "execution_count": 8,
   "metadata": {},
   "outputs": [
    {
     "name": "stderr",
     "output_type": "stream",
     "text": [
      "100%|██████████| 1856/1856 [1:20:54<00:00,  2.69s/it]\n"
     ]
    }
   ],
   "source": [
    "for v in tqdm(articles.url.values):\n",
    "    driver.get(f\"https://ft.com{v}\")\n",
    "    driver.implicitly_wait(0.1)\n",
    "    with open(\"raw_articles/\" + v.split(\"/\")[-1] + \".html\",\"w\") as f:\n",
    "        f.write(driver.page_source)"
   ]
  },
  {
   "cell_type": "code",
   "execution_count": 10,
   "metadata": {},
   "outputs": [],
   "source": [
    "u = os.listdir(\"raw_articles\")"
   ]
  },
  {
   "cell_type": "code",
   "execution_count": 12,
   "metadata": {},
   "outputs": [],
   "source": [
    "f = u[51]"
   ]
  },
  {
   "cell_type": "code",
   "execution_count": 3,
   "metadata": {},
   "outputs": [],
   "source": [
    "from bs4 import BeautifulSoup"
   ]
  },
  {
   "cell_type": "code",
   "execution_count": 14,
   "metadata": {},
   "outputs": [],
   "source": [
    "with open(f\"raw_articles/{f}\",\"r\") as f:\n",
    "    soup = BeautifulSoup(f.read())"
   ]
  },
  {
   "cell_type": "code",
   "execution_count": 19,
   "metadata": {},
   "outputs": [
    {
     "data": {
      "text/plain": [
       "'2020-01-21T16:00:24Z'"
      ]
     },
     "execution_count": 19,
     "metadata": {},
     "output_type": "execute_result"
    }
   ],
   "source": [
    "soup.find_all(name=\"time\",attrs={\"class\":'article-info__timestamp o-date'})[0]['datetime']"
   ]
  },
  {
   "cell_type": "code",
   "execution_count": 29,
   "metadata": {},
   "outputs": [],
   "source": [
    "articles.url = articles.url.apply(lambda x: x.split(\"/\")[2])"
   ]
  },
  {
   "cell_type": "code",
   "execution_count": 13,
   "metadata": {},
   "outputs": [],
   "source": [
    "articles = pd.read_csv(\"articles2.csv\")\n"
   ]
  },
  {
   "cell_type": "code",
   "execution_count": 4,
   "metadata": {},
   "outputs": [],
   "source": [
    "def get_date(x):\n",
    "    f = f\"raw_articles/{x}.html\"\n",
    "    with open(f,\"r\") as f:\n",
    "        soup = BeautifulSoup(f.read())\n",
    "    try:\n",
    "        return soup.find_all(name=\"time\",attrs={\"class\":'article-info__timestamp o-date'})[0]['datetime']\n",
    "    except:\n",
    "        return np.nan"
   ]
  },
  {
   "cell_type": "code",
   "execution_count": 5,
   "metadata": {},
   "outputs": [],
   "source": [
    "def get_comment_count(x):\n",
    "    f = f\"raw_articles/{x}.html\"\n",
    "    with open(f,\"r\") as f:\n",
    "        soup = BeautifulSoup(f.read())\n",
    "    try:\n",
    "        return int(soup.find_all(name=\"a\",attrs={\"id\":'o-comments-count'})[0].contents[0])\n",
    "    except:\n",
    "        return np.nan\n",
    "    \n"
   ]
  },
  {
   "cell_type": "code",
   "execution_count": 6,
   "metadata": {},
   "outputs": [],
   "source": [
    "def get_authors(x):\n",
    "    f = f\"raw_articles/{x}.html\"\n",
    "    with open(f,\"r\") as f:\n",
    "        soup = BeautifulSoup(f.read())\n",
    "    try:\n",
    "        return [i.contents[0] for i in soup.find_all(name=\"a\",attrs={\"class\":'n-content-tag--author'})]\n",
    "    except:\n",
    "        return np.nan\n",
    "\n",
    "\n",
    "\n"
   ]
  },
  {
   "cell_type": "code",
   "execution_count": 7,
   "metadata": {},
   "outputs": [],
   "source": [
    "def get_content(x):\n",
    "    f = f\"raw_articles/{x}.html\"\n",
    "    with open(f,\"r\") as f:\n",
    "        soup = BeautifulSoup(f.read())\n",
    "    try:\n",
    "        q = soup.find_all(name=\"div\",attrs={\"class\":'article__content-body'})[0]\n",
    "        return \" \\n \".join([p.contents[0] for p in  q.find_all(\"p\")])\n",
    "    except:\n",
    "        return np.nan\n",
    "\n"
   ]
  },
  {
   "cell_type": "code",
   "execution_count": 8,
   "metadata": {},
   "outputs": [],
   "source": [
    "def get_title(x):\n",
    "    f = f\"raw_articles/{x}.html\"\n",
    "    with open(f,\"r\") as f:\n",
    "        soup = BeautifulSoup(f.read())\n",
    "    try:\n",
    "        q = soup.find_all(name=\"h1\")[0].find_all(name=\"span\")[0].contents[0]\n",
    "        return q\n",
    "    except:\n",
    "        return np.nan\n",
    "\n"
   ]
  },
  {
   "cell_type": "code",
   "execution_count": 9,
   "metadata": {},
   "outputs": [],
   "source": [
    "def clean_article(x):\n",
    "    return x.replace('class=\"cookie-banner variant-cookieConsentC\"','class=\"cookie-banner variant-cookieConsentC\" hidden')"
   ]
  },
  {
   "cell_type": "code",
   "execution_count": 10,
   "metadata": {},
   "outputs": [],
   "source": [
    "def clean_title(x):\n",
    "    return x.replace(\"/\",\"-\").replace(\"\\\\\",\"-\")\n",
    "    "
   ]
  },
  {
   "cell_type": "code",
   "execution_count": 11,
   "metadata": {},
   "outputs": [],
   "source": [
    "def save_article(x):\n",
    "    try:\n",
    "        f = f\"raw_articles/{x.url}.html\"\n",
    "        with open(f,\"r\") as f:\n",
    "            f = f.read()\n",
    "        u = pd.to_datetime(x.reference_time)\n",
    "        q = clean_article(f)\n",
    "        name = \"-\".join([str(u.year),str(u.month),str(u.day)]) + \"  \" + x.title\n",
    "        name = clean_title(name)\n",
    "        with open(f\"articles/{name}.html\",\"w\") as f:\n",
    "            f.write(q)\n",
    "\n",
    "        return True\n",
    "    except:\n",
    "        return False"
   ]
  },
  {
   "cell_type": "code",
   "execution_count": 14,
   "metadata": {},
   "outputs": [
    {
     "data": {
      "text/plain": [
       "Index(['page', 'url', 'reference_time', 'comment_count', 'authors'], dtype='object')"
      ]
     },
     "execution_count": 14,
     "metadata": {},
     "output_type": "execute_result"
    }
   ],
   "source": [
    "articles.columns"
   ]
  },
  {
   "cell_type": "code",
   "execution_count": 31,
   "metadata": {},
   "outputs": [
    {
     "name": "stderr",
     "output_type": "stream",
     "text": [
      "100%|██████████| 4756/4756 [03:00<00:00, 23.81it/s]\n"
     ]
    }
   ],
   "source": [
    "articles[\"reference_time\"] = articles.url.progress_apply(get_date)"
   ]
  },
  {
   "cell_type": "code",
   "execution_count": 65,
   "metadata": {},
   "outputs": [
    {
     "name": "stderr",
     "output_type": "stream",
     "text": [
      "100%|██████████| 4756/4756 [03:34<00:00, 22.17it/s]\n"
     ]
    }
   ],
   "source": [
    "articles[\"comment_count\"] = articles.url.progress_apply(get_comment_count)"
   ]
  },
  {
   "cell_type": "code",
   "execution_count": 73,
   "metadata": {},
   "outputs": [
    {
     "name": "stderr",
     "output_type": "stream",
     "text": [
      "100%|██████████| 4756/4756 [04:30<00:00, 34.55it/s]  \n"
     ]
    }
   ],
   "source": [
    "articles[\"authors\"] = articles.url.progress_apply(get_authors)"
   ]
  },
  {
   "cell_type": "code",
   "execution_count": 15,
   "metadata": {},
   "outputs": [
    {
     "name": "stderr",
     "output_type": "stream",
     "text": [
      "100%|██████████| 4756/4756 [04:16<00:00, 19.75it/s]\n"
     ]
    }
   ],
   "source": [
    "articles[\"content\"] = articles.url.progress_apply(get_content)"
   ]
  },
  {
   "cell_type": "code",
   "execution_count": 16,
   "metadata": {},
   "outputs": [
    {
     "name": "stderr",
     "output_type": "stream",
     "text": [
      "100%|██████████| 4756/4756 [04:17<00:00, 25.50it/s]  \n"
     ]
    }
   ],
   "source": [
    "articles[\"title\"] = articles.url.progress_apply(get_title)"
   ]
  },
  {
   "cell_type": "code",
   "execution_count": 17,
   "metadata": {},
   "outputs": [
    {
     "name": "stderr",
     "output_type": "stream",
     "text": [
      "100%|██████████| 4756/4756 [00:05<00:00, 922.04it/s] \n"
     ]
    }
   ],
   "source": [
    "articles[\"processed\"] = articles.progress_apply(save_article,axis=1)"
   ]
  },
  {
   "cell_type": "code",
   "execution_count": 75,
   "metadata": {},
   "outputs": [],
   "source": [
    "df = articles[articles.authors.isna() == False]"
   ]
  },
  {
   "cell_type": "code",
   "execution_count": 84,
   "metadata": {},
   "outputs": [],
   "source": [
    "articles.to_csv('articles2.csv',index=False)"
   ]
  },
  {
   "cell_type": "code",
   "execution_count": 85,
   "metadata": {},
   "outputs": [
    {
     "data": {
      "text/html": [
       "<div>\n",
       "<style scoped>\n",
       "    .dataframe tbody tr th:only-of-type {\n",
       "        vertical-align: middle;\n",
       "    }\n",
       "\n",
       "    .dataframe tbody tr th {\n",
       "        vertical-align: top;\n",
       "    }\n",
       "\n",
       "    .dataframe thead th {\n",
       "        text-align: right;\n",
       "    }\n",
       "</style>\n",
       "<table border=\"1\" class=\"dataframe\">\n",
       "  <thead>\n",
       "    <tr style=\"text-align: right;\">\n",
       "      <th></th>\n",
       "      <th>page</th>\n",
       "      <th>url</th>\n",
       "      <th>reference_time</th>\n",
       "      <th>comment_count</th>\n",
       "      <th>authors</th>\n",
       "    </tr>\n",
       "  </thead>\n",
       "  <tbody>\n",
       "    <tr>\n",
       "      <th>0</th>\n",
       "      <td>1</td>\n",
       "      <td>20148324-54a2-11ea-8841-482eed0038b1</td>\n",
       "      <td>2020-02-24T00:01:04Z</td>\n",
       "      <td>91.0</td>\n",
       "      <td>['Antonia Cundy']</td>\n",
       "    </tr>\n",
       "    <tr>\n",
       "      <th>1</th>\n",
       "      <td>1</td>\n",
       "      <td>74e463b8-563e-11ea-abe5-8e03987b7b20</td>\n",
       "      <td>2020-02-23T18:46:33Z</td>\n",
       "      <td>340.0</td>\n",
       "      <td>['George Parker', 'Jim Brunsden', 'Michael Peel']</td>\n",
       "    </tr>\n",
       "    <tr>\n",
       "      <th>2</th>\n",
       "      <td>1</td>\n",
       "      <td>4998e368-5626-11ea-a528-dd0f971febbc</td>\n",
       "      <td>2020-02-23T11:41:03Z</td>\n",
       "      <td>426.0</td>\n",
       "      <td>['Jim Brunsden']</td>\n",
       "    </tr>\n",
       "    <tr>\n",
       "      <th>3</th>\n",
       "      <td>1</td>\n",
       "      <td>8e880caa-5587-11ea-abe5-8e03987b7b20</td>\n",
       "      <td>2020-02-22T15:48:34Z</td>\n",
       "      <td>62.0</td>\n",
       "      <td>[]</td>\n",
       "    </tr>\n",
       "    <tr>\n",
       "      <th>4</th>\n",
       "      <td>1</td>\n",
       "      <td>8a166ff6-54b3-11ea-8841-482eed0038b1</td>\n",
       "      <td>2020-02-22T00:02:43Z</td>\n",
       "      <td>NaN</td>\n",
       "      <td>['Laura Hughes']</td>\n",
       "    </tr>\n",
       "    <tr>\n",
       "      <th>5</th>\n",
       "      <td>1</td>\n",
       "      <td>70703996-4f32-11ea-95a0-43d18ec715f5</td>\n",
       "      <td>2020-02-21T14:54:07Z</td>\n",
       "      <td>NaN</td>\n",
       "      <td>['Nikou Asgari', 'Antonia Cundy']</td>\n",
       "    </tr>\n",
       "    <tr>\n",
       "      <th>6</th>\n",
       "      <td>1</td>\n",
       "      <td>2c8b7e12-54ae-11ea-8841-482eed0038b1</td>\n",
       "      <td>2020-02-21T14:26:34Z</td>\n",
       "      <td>NaN</td>\n",
       "      <td>['Sebastian Payne']</td>\n",
       "    </tr>\n",
       "    <tr>\n",
       "      <th>7</th>\n",
       "      <td>1</td>\n",
       "      <td>46339f54-5489-11ea-a1ef-da1721a0541e</td>\n",
       "      <td>2020-02-21T14:24:56Z</td>\n",
       "      <td>NaN</td>\n",
       "      <td>['Bronwen Maddox']</td>\n",
       "    </tr>\n",
       "    <tr>\n",
       "      <th>8</th>\n",
       "      <td>1</td>\n",
       "      <td>e77e19a6-5278-11ea-90ad-25e377c0ee1f</td>\n",
       "      <td>2020-02-21T04:00:28Z</td>\n",
       "      <td>134.0</td>\n",
       "      <td>['Murad Ahmed', 'John Burn-Murdoch']</td>\n",
       "    </tr>\n",
       "    <tr>\n",
       "      <th>9</th>\n",
       "      <td>1</td>\n",
       "      <td>74070226-53d1-11ea-8841-482eed0038b1</td>\n",
       "      <td>2020-02-20T17:02:00Z</td>\n",
       "      <td>140.0</td>\n",
       "      <td>['Frederick Studemann']</td>\n",
       "    </tr>\n",
       "    <tr>\n",
       "      <th>10</th>\n",
       "      <td>1</td>\n",
       "      <td>57ce437a-53e1-11ea-90ad-25e377c0ee1f</td>\n",
       "      <td>2020-02-20T14:24:09Z</td>\n",
       "      <td>NaN</td>\n",
       "      <td>['Jim Brunsden']</td>\n",
       "    </tr>\n",
       "    <tr>\n",
       "      <th>11</th>\n",
       "      <td>1</td>\n",
       "      <td>38dbdfc6-5315-11ea-90ad-25e377c0ee1f</td>\n",
       "      <td>2020-02-19T19:08:16Z</td>\n",
       "      <td>266.0</td>\n",
       "      <td>['Robert Wright']</td>\n",
       "    </tr>\n",
       "    <tr>\n",
       "      <th>12</th>\n",
       "      <td>1</td>\n",
       "      <td>f81c7bde-5306-11ea-8841-482eed0038b1</td>\n",
       "      <td>2020-02-19T18:43:08Z</td>\n",
       "      <td>830.0</td>\n",
       "      <td>['Jim Brunsden', 'Laura Hughes']</td>\n",
       "    </tr>\n",
       "    <tr>\n",
       "      <th>13</th>\n",
       "      <td>1</td>\n",
       "      <td>0c58a3ee-531f-11ea-8841-482eed0038b1</td>\n",
       "      <td>2020-02-19T15:26:53Z</td>\n",
       "      <td>231.0</td>\n",
       "      <td>['Sebastian Payne']</td>\n",
       "    </tr>\n",
       "    <tr>\n",
       "      <th>14</th>\n",
       "      <td>1</td>\n",
       "      <td>9f8524ae-52fb-11ea-8841-482eed0038b1</td>\n",
       "      <td>2020-02-19T12:44:44Z</td>\n",
       "      <td>NaN</td>\n",
       "      <td>['Robert Wright']</td>\n",
       "    </tr>\n",
       "    <tr>\n",
       "      <th>15</th>\n",
       "      <td>1</td>\n",
       "      <td>890e84ce-5268-11ea-90ad-25e377c0ee1f</td>\n",
       "      <td>2020-02-18T22:30:36Z</td>\n",
       "      <td>1027.0</td>\n",
       "      <td>['Robert Wright']</td>\n",
       "    </tr>\n",
       "    <tr>\n",
       "      <th>16</th>\n",
       "      <td>1</td>\n",
       "      <td>bd4d6162-5293-11ea-8841-482eed0038b1</td>\n",
       "      <td>2020-02-18T21:38:17Z</td>\n",
       "      <td>NaN</td>\n",
       "      <td>['Jim Brunsden']</td>\n",
       "    </tr>\n",
       "    <tr>\n",
       "      <th>17</th>\n",
       "      <td>1</td>\n",
       "      <td>da67cfd4-526c-11ea-8841-482eed0038b1</td>\n",
       "      <td>2020-02-18T19:53:02Z</td>\n",
       "      <td>278.0</td>\n",
       "      <td>['Jim Brunsden']</td>\n",
       "    </tr>\n",
       "    <tr>\n",
       "      <th>18</th>\n",
       "      <td>1</td>\n",
       "      <td>3206e616-5255-11ea-8841-482eed0038b1</td>\n",
       "      <td>2020-02-18T14:53:45Z</td>\n",
       "      <td>202.0</td>\n",
       "      <td>['Tony Barber']</td>\n",
       "    </tr>\n",
       "    <tr>\n",
       "      <th>19</th>\n",
       "      <td>1</td>\n",
       "      <td>89b67454-51af-11ea-90ad-25e377c0ee1f</td>\n",
       "      <td>2020-02-17T22:24:16Z</td>\n",
       "      <td>NaN</td>\n",
       "      <td>['Jim Brunsden', 'Sebastian Payne', 'Victor Ma...</td>\n",
       "    </tr>\n",
       "    <tr>\n",
       "      <th>20</th>\n",
       "      <td>1</td>\n",
       "      <td>65ab1d98-5188-11ea-90ad-25e377c0ee1f</td>\n",
       "      <td>2020-02-17T14:53:08Z</td>\n",
       "      <td>117.0</td>\n",
       "      <td>['David Bond']</td>\n",
       "    </tr>\n",
       "    <tr>\n",
       "      <th>21</th>\n",
       "      <td>1</td>\n",
       "      <td>d90116a0-5109-11ea-90ad-25e377c0ee1f</td>\n",
       "      <td>2020-02-17T13:10:43Z</td>\n",
       "      <td>NaN</td>\n",
       "      <td>['Alan Beattie']</td>\n",
       "    </tr>\n",
       "    <tr>\n",
       "      <th>22</th>\n",
       "      <td>1</td>\n",
       "      <td>3dfc8336-4e7c-11ea-95a0-43d18ec715f5</td>\n",
       "      <td>2020-02-17T11:18:00Z</td>\n",
       "      <td>124.0</td>\n",
       "      <td>['Myles McCormick']</td>\n",
       "    </tr>\n",
       "    <tr>\n",
       "      <th>23</th>\n",
       "      <td>1</td>\n",
       "      <td>b726868a-4f53-11ea-95a0-43d18ec715f5</td>\n",
       "      <td>2020-02-17T00:01:08Z</td>\n",
       "      <td>269.0</td>\n",
       "      <td>['Antonia Cundy', 'Daniel Thomas']</td>\n",
       "    </tr>\n",
       "    <tr>\n",
       "      <th>24</th>\n",
       "      <td>2</td>\n",
       "      <td>852e15bc-50de-11ea-90ad-25e377c0ee1f</td>\n",
       "      <td>2020-02-16T18:51:37Z</td>\n",
       "      <td>NaN</td>\n",
       "      <td>['Helen Warrell', 'Michael Peel']</td>\n",
       "    </tr>\n",
       "    <tr>\n",
       "      <th>25</th>\n",
       "      <td>2</td>\n",
       "      <td>f29c5b3c-50d8-11ea-90ad-25e377c0ee1f</td>\n",
       "      <td>2020-02-16T18:19:33Z</td>\n",
       "      <td>NaN</td>\n",
       "      <td>['Sam Fleming', 'Javier Espinoza', 'Laura Hugh...</td>\n",
       "    </tr>\n",
       "    <tr>\n",
       "      <th>26</th>\n",
       "      <td>2</td>\n",
       "      <td>fff3fa58-4e65-11ea-95a0-43d18ec715f5</td>\n",
       "      <td>2020-02-16T16:46:18Z</td>\n",
       "      <td>118.0</td>\n",
       "      <td>['Laura Noonan']</td>\n",
       "    </tr>\n",
       "    <tr>\n",
       "      <th>27</th>\n",
       "      <td>2</td>\n",
       "      <td>5e904a64-4f18-11ea-95a0-43d18ec715f5</td>\n",
       "      <td>2020-02-16T14:39:34Z</td>\n",
       "      <td>NaN</td>\n",
       "      <td>['Huw van Steenis']</td>\n",
       "    </tr>\n",
       "    <tr>\n",
       "      <th>28</th>\n",
       "      <td>2</td>\n",
       "      <td>1f034e4a-4e33-4ba9-bcfc-dedb44ed6703</td>\n",
       "      <td>2020-02-16T05:00:31Z</td>\n",
       "      <td>NaN</td>\n",
       "      <td>['Siobhan Riding']</td>\n",
       "    </tr>\n",
       "    <tr>\n",
       "      <th>29</th>\n",
       "      <td>2</td>\n",
       "      <td>a7d6c710-f880-4318-b4b9-2eaff20caf45</td>\n",
       "      <td>2020-02-15T11:00:52Z</td>\n",
       "      <td>NaN</td>\n",
       "      <td>['Attracta Mooney']</td>\n",
       "    </tr>\n",
       "    <tr>\n",
       "      <th>...</th>\n",
       "      <td>...</td>\n",
       "      <td>...</td>\n",
       "      <td>...</td>\n",
       "      <td>...</td>\n",
       "      <td>...</td>\n",
       "    </tr>\n",
       "    <tr>\n",
       "      <th>4726</th>\n",
       "      <td>199</td>\n",
       "      <td>18972a36-89d1-11e8-bf9e-8771d5404543</td>\n",
       "      <td>2018-07-17T16:12:47Z</td>\n",
       "      <td>NaN</td>\n",
       "      <td>['Nicholas Megaw']</td>\n",
       "    </tr>\n",
       "    <tr>\n",
       "      <th>4727</th>\n",
       "      <td>199</td>\n",
       "      <td>df27ce10-89b5-11e8-b18d-0181731a0340</td>\n",
       "      <td>2018-07-17T15:53:11Z</td>\n",
       "      <td>NaN</td>\n",
       "      <td>['Katie Martin']</td>\n",
       "    </tr>\n",
       "    <tr>\n",
       "      <th>4728</th>\n",
       "      <td>199</td>\n",
       "      <td>b26b87c6-89c0-11e8-b18d-0181731a0340</td>\n",
       "      <td>2018-07-17T13:37:59Z</td>\n",
       "      <td>NaN</td>\n",
       "      <td>['Cat Rutter Pooley']</td>\n",
       "    </tr>\n",
       "    <tr>\n",
       "      <th>4729</th>\n",
       "      <td>199</td>\n",
       "      <td>a8b848ce-8987-11e8-b18d-0181731a0340</td>\n",
       "      <td>2018-07-17T12:51:23Z</td>\n",
       "      <td>NaN</td>\n",
       "      <td>['Jim Pickard', 'Camilla Hodgson']</td>\n",
       "    </tr>\n",
       "    <tr>\n",
       "      <th>4730</th>\n",
       "      <td>199</td>\n",
       "      <td>5b74e148-89b5-11e8-b18d-0181731a0340</td>\n",
       "      <td>2018-07-17T12:35:57Z</td>\n",
       "      <td>NaN</td>\n",
       "      <td>['James Blitz']</td>\n",
       "    </tr>\n",
       "    <tr>\n",
       "      <th>4731</th>\n",
       "      <td>200</td>\n",
       "      <td>2b2bd3ce-89ac-11e8-bf9e-8771d5404543</td>\n",
       "      <td>2018-07-17T12:07:44Z</td>\n",
       "      <td>NaN</td>\n",
       "      <td>['Laura Hughes', 'George Parker']</td>\n",
       "    </tr>\n",
       "    <tr>\n",
       "      <th>4732</th>\n",
       "      <td>200</td>\n",
       "      <td>4e0c9d0e-89b8-11e8-b18d-0181731a0340</td>\n",
       "      <td>2018-07-17T12:03:17Z</td>\n",
       "      <td>NaN</td>\n",
       "      <td>['Peggy Hollinger']</td>\n",
       "    </tr>\n",
       "    <tr>\n",
       "      <th>4733</th>\n",
       "      <td>200</td>\n",
       "      <td>a3d2735e-899e-11e8-b18d-0181731a0340</td>\n",
       "      <td>2018-07-17T11:18:51Z</td>\n",
       "      <td>NaN</td>\n",
       "      <td>['George Parker', 'Chris Giles']</td>\n",
       "    </tr>\n",
       "    <tr>\n",
       "      <th>4734</th>\n",
       "      <td>200</td>\n",
       "      <td>b55e605c-8998-11e8-bf9e-8771d5404543</td>\n",
       "      <td>2018-07-17T11:07:12Z</td>\n",
       "      <td>NaN</td>\n",
       "      <td>['Katie Martin']</td>\n",
       "    </tr>\n",
       "    <tr>\n",
       "      <th>4735</th>\n",
       "      <td>200</td>\n",
       "      <td>95343036-899d-11e8-b18d-0181731a0340</td>\n",
       "      <td>2018-07-17T09:25:13Z</td>\n",
       "      <td>NaN</td>\n",
       "      <td>['Gavin Jackson', 'Cat Rutter Pooley']</td>\n",
       "    </tr>\n",
       "    <tr>\n",
       "      <th>4736</th>\n",
       "      <td>200</td>\n",
       "      <td>3eb00c46-5cf0-11e8-9334-2218e7146b04</td>\n",
       "      <td>2018-07-17T03:00:29Z</td>\n",
       "      <td>NaN</td>\n",
       "      <td>['Chris Tighe', 'Gavin Jackson']</td>\n",
       "    </tr>\n",
       "    <tr>\n",
       "      <th>4737</th>\n",
       "      <td>200</td>\n",
       "      <td>2a3893f2-88e5-11e8-bf9e-8771d5404543</td>\n",
       "      <td>2018-07-17T03:00:26Z</td>\n",
       "      <td>NaN</td>\n",
       "      <td>['Alex Barker']</td>\n",
       "    </tr>\n",
       "    <tr>\n",
       "      <th>4738</th>\n",
       "      <td>200</td>\n",
       "      <td>32ebd3d4-8902-11e8-b18d-0181731a0340</td>\n",
       "      <td>2018-07-16T22:20:42Z</td>\n",
       "      <td>NaN</td>\n",
       "      <td>['George Parker', 'Laura Hughes', 'Jim Pickard']</td>\n",
       "    </tr>\n",
       "    <tr>\n",
       "      <th>4739</th>\n",
       "      <td>200</td>\n",
       "      <td>620c5eb4-8910-11e8-b18d-0181731a0340</td>\n",
       "      <td>2018-07-16T17:54:34Z</td>\n",
       "      <td>NaN</td>\n",
       "      <td>['Pan Kwan Yuk']</td>\n",
       "    </tr>\n",
       "    <tr>\n",
       "      <th>4740</th>\n",
       "      <td>200</td>\n",
       "      <td>6198fe42-88d4-11e8-bf9e-8771d5404543</td>\n",
       "      <td>2018-07-16T13:38:20Z</td>\n",
       "      <td>NaN</td>\n",
       "      <td>['Robert Wright']</td>\n",
       "    </tr>\n",
       "    <tr>\n",
       "      <th>4741</th>\n",
       "      <td>200</td>\n",
       "      <td>fcb3c57c-88e5-11e8-b18d-0181731a0340</td>\n",
       "      <td>2018-07-16T12:35:14Z</td>\n",
       "      <td>NaN</td>\n",
       "      <td>['James Blitz']</td>\n",
       "    </tr>\n",
       "    <tr>\n",
       "      <th>4742</th>\n",
       "      <td>200</td>\n",
       "      <td>dffd77ec-867f-11e8-96dd-fa565ec55929</td>\n",
       "      <td>2018-07-16T12:19:31Z</td>\n",
       "      <td>NaN</td>\n",
       "      <td>['David Allen Green']</td>\n",
       "    </tr>\n",
       "    <tr>\n",
       "      <th>4743</th>\n",
       "      <td>200</td>\n",
       "      <td>15b5b4f6-88e4-11e8-b18d-0181731a0340</td>\n",
       "      <td>2018-07-16T10:47:17Z</td>\n",
       "      <td>NaN</td>\n",
       "      <td>['Jim Pickard']</td>\n",
       "    </tr>\n",
       "    <tr>\n",
       "      <th>4744</th>\n",
       "      <td>200</td>\n",
       "      <td>3edccd8e-867c-11e8-a29d-73e3d454535d</td>\n",
       "      <td>2018-07-16T09:47:53Z</td>\n",
       "      <td>NaN</td>\n",
       "      <td>[]</td>\n",
       "    </tr>\n",
       "    <tr>\n",
       "      <th>4745</th>\n",
       "      <td>200</td>\n",
       "      <td>145428e2-88d3-11e8-b18d-0181731a0340</td>\n",
       "      <td>2018-07-16T09:46:32Z</td>\n",
       "      <td>NaN</td>\n",
       "      <td>['Camilla Hodgson']</td>\n",
       "    </tr>\n",
       "    <tr>\n",
       "      <th>4746</th>\n",
       "      <td>200</td>\n",
       "      <td>07d0217a-88c9-11e8-bf9e-8771d5404543</td>\n",
       "      <td>2018-07-16T08:32:55Z</td>\n",
       "      <td>NaN</td>\n",
       "      <td>['George Parker', 'Katie Martin']</td>\n",
       "    </tr>\n",
       "    <tr>\n",
       "      <th>4747</th>\n",
       "      <td>200</td>\n",
       "      <td>3641a906-88c0-11e8-bf9e-8771d5404543</td>\n",
       "      <td>2018-07-16T06:46:21Z</td>\n",
       "      <td>NaN</td>\n",
       "      <td>['Katie Martin']</td>\n",
       "    </tr>\n",
       "    <tr>\n",
       "      <th>4748</th>\n",
       "      <td>200</td>\n",
       "      <td>fc1aab06-85db-11e8-9199-c2a4754b5a0e</td>\n",
       "      <td>2018-07-16T04:00:57Z</td>\n",
       "      <td>NaN</td>\n",
       "      <td>['Nick Clegg']</td>\n",
       "    </tr>\n",
       "    <tr>\n",
       "      <th>4749</th>\n",
       "      <td>200</td>\n",
       "      <td>bff06104-86c4-11e8-a29d-73e3d454535d</td>\n",
       "      <td>2018-07-16T04:00:26Z</td>\n",
       "      <td>NaN</td>\n",
       "      <td>['Patrick Jenkins']</td>\n",
       "    </tr>\n",
       "    <tr>\n",
       "      <th>4750</th>\n",
       "      <td>200</td>\n",
       "      <td>8cdb7dc6-85f7-11e8-a29d-73e3d454535d</td>\n",
       "      <td>2018-07-16T03:01:06Z</td>\n",
       "      <td>NaN</td>\n",
       "      <td>['Martin Arnold']</td>\n",
       "    </tr>\n",
       "    <tr>\n",
       "      <th>4751</th>\n",
       "      <td>200</td>\n",
       "      <td>54cb115a-843d-11e8-96dd-fa565ec55929</td>\n",
       "      <td>2018-07-16T01:30:24Z</td>\n",
       "      <td>NaN</td>\n",
       "      <td>[]</td>\n",
       "    </tr>\n",
       "    <tr>\n",
       "      <th>4752</th>\n",
       "      <td>200</td>\n",
       "      <td>a78a97c0-8817-11e8-bf9e-8771d5404543</td>\n",
       "      <td>2018-07-15T16:54:18Z</td>\n",
       "      <td>NaN</td>\n",
       "      <td>['Jonathan Ford']</td>\n",
       "    </tr>\n",
       "    <tr>\n",
       "      <th>4753</th>\n",
       "      <td>200</td>\n",
       "      <td>b7856b3e-86b7-11e8-a29d-73e3d454535d</td>\n",
       "      <td>2018-07-15T14:52:36Z</td>\n",
       "      <td>NaN</td>\n",
       "      <td>['Wolfgang Münchau']</td>\n",
       "    </tr>\n",
       "    <tr>\n",
       "      <th>4754</th>\n",
       "      <td>200</td>\n",
       "      <td>d1cb4548-874f-11e8-b18d-0181731a0340</td>\n",
       "      <td>2018-07-15T13:52:38Z</td>\n",
       "      <td>NaN</td>\n",
       "      <td>['Jim Pickard']</td>\n",
       "    </tr>\n",
       "    <tr>\n",
       "      <th>4755</th>\n",
       "      <td>200</td>\n",
       "      <td>44e463b2-868c-11e8-a29d-73e3d454535d</td>\n",
       "      <td>2018-07-15T08:24:42Z</td>\n",
       "      <td>NaN</td>\n",
       "      <td>['James Blitz']</td>\n",
       "    </tr>\n",
       "  </tbody>\n",
       "</table>\n",
       "<p>4756 rows × 5 columns</p>\n",
       "</div>"
      ],
      "text/plain": [
       "      page                                   url        reference_time  \\\n",
       "0        1  20148324-54a2-11ea-8841-482eed0038b1  2020-02-24T00:01:04Z   \n",
       "1        1  74e463b8-563e-11ea-abe5-8e03987b7b20  2020-02-23T18:46:33Z   \n",
       "2        1  4998e368-5626-11ea-a528-dd0f971febbc  2020-02-23T11:41:03Z   \n",
       "3        1  8e880caa-5587-11ea-abe5-8e03987b7b20  2020-02-22T15:48:34Z   \n",
       "4        1  8a166ff6-54b3-11ea-8841-482eed0038b1  2020-02-22T00:02:43Z   \n",
       "5        1  70703996-4f32-11ea-95a0-43d18ec715f5  2020-02-21T14:54:07Z   \n",
       "6        1  2c8b7e12-54ae-11ea-8841-482eed0038b1  2020-02-21T14:26:34Z   \n",
       "7        1  46339f54-5489-11ea-a1ef-da1721a0541e  2020-02-21T14:24:56Z   \n",
       "8        1  e77e19a6-5278-11ea-90ad-25e377c0ee1f  2020-02-21T04:00:28Z   \n",
       "9        1  74070226-53d1-11ea-8841-482eed0038b1  2020-02-20T17:02:00Z   \n",
       "10       1  57ce437a-53e1-11ea-90ad-25e377c0ee1f  2020-02-20T14:24:09Z   \n",
       "11       1  38dbdfc6-5315-11ea-90ad-25e377c0ee1f  2020-02-19T19:08:16Z   \n",
       "12       1  f81c7bde-5306-11ea-8841-482eed0038b1  2020-02-19T18:43:08Z   \n",
       "13       1  0c58a3ee-531f-11ea-8841-482eed0038b1  2020-02-19T15:26:53Z   \n",
       "14       1  9f8524ae-52fb-11ea-8841-482eed0038b1  2020-02-19T12:44:44Z   \n",
       "15       1  890e84ce-5268-11ea-90ad-25e377c0ee1f  2020-02-18T22:30:36Z   \n",
       "16       1  bd4d6162-5293-11ea-8841-482eed0038b1  2020-02-18T21:38:17Z   \n",
       "17       1  da67cfd4-526c-11ea-8841-482eed0038b1  2020-02-18T19:53:02Z   \n",
       "18       1  3206e616-5255-11ea-8841-482eed0038b1  2020-02-18T14:53:45Z   \n",
       "19       1  89b67454-51af-11ea-90ad-25e377c0ee1f  2020-02-17T22:24:16Z   \n",
       "20       1  65ab1d98-5188-11ea-90ad-25e377c0ee1f  2020-02-17T14:53:08Z   \n",
       "21       1  d90116a0-5109-11ea-90ad-25e377c0ee1f  2020-02-17T13:10:43Z   \n",
       "22       1  3dfc8336-4e7c-11ea-95a0-43d18ec715f5  2020-02-17T11:18:00Z   \n",
       "23       1  b726868a-4f53-11ea-95a0-43d18ec715f5  2020-02-17T00:01:08Z   \n",
       "24       2  852e15bc-50de-11ea-90ad-25e377c0ee1f  2020-02-16T18:51:37Z   \n",
       "25       2  f29c5b3c-50d8-11ea-90ad-25e377c0ee1f  2020-02-16T18:19:33Z   \n",
       "26       2  fff3fa58-4e65-11ea-95a0-43d18ec715f5  2020-02-16T16:46:18Z   \n",
       "27       2  5e904a64-4f18-11ea-95a0-43d18ec715f5  2020-02-16T14:39:34Z   \n",
       "28       2  1f034e4a-4e33-4ba9-bcfc-dedb44ed6703  2020-02-16T05:00:31Z   \n",
       "29       2  a7d6c710-f880-4318-b4b9-2eaff20caf45  2020-02-15T11:00:52Z   \n",
       "...    ...                                   ...                   ...   \n",
       "4726   199  18972a36-89d1-11e8-bf9e-8771d5404543  2018-07-17T16:12:47Z   \n",
       "4727   199  df27ce10-89b5-11e8-b18d-0181731a0340  2018-07-17T15:53:11Z   \n",
       "4728   199  b26b87c6-89c0-11e8-b18d-0181731a0340  2018-07-17T13:37:59Z   \n",
       "4729   199  a8b848ce-8987-11e8-b18d-0181731a0340  2018-07-17T12:51:23Z   \n",
       "4730   199  5b74e148-89b5-11e8-b18d-0181731a0340  2018-07-17T12:35:57Z   \n",
       "4731   200  2b2bd3ce-89ac-11e8-bf9e-8771d5404543  2018-07-17T12:07:44Z   \n",
       "4732   200  4e0c9d0e-89b8-11e8-b18d-0181731a0340  2018-07-17T12:03:17Z   \n",
       "4733   200  a3d2735e-899e-11e8-b18d-0181731a0340  2018-07-17T11:18:51Z   \n",
       "4734   200  b55e605c-8998-11e8-bf9e-8771d5404543  2018-07-17T11:07:12Z   \n",
       "4735   200  95343036-899d-11e8-b18d-0181731a0340  2018-07-17T09:25:13Z   \n",
       "4736   200  3eb00c46-5cf0-11e8-9334-2218e7146b04  2018-07-17T03:00:29Z   \n",
       "4737   200  2a3893f2-88e5-11e8-bf9e-8771d5404543  2018-07-17T03:00:26Z   \n",
       "4738   200  32ebd3d4-8902-11e8-b18d-0181731a0340  2018-07-16T22:20:42Z   \n",
       "4739   200  620c5eb4-8910-11e8-b18d-0181731a0340  2018-07-16T17:54:34Z   \n",
       "4740   200  6198fe42-88d4-11e8-bf9e-8771d5404543  2018-07-16T13:38:20Z   \n",
       "4741   200  fcb3c57c-88e5-11e8-b18d-0181731a0340  2018-07-16T12:35:14Z   \n",
       "4742   200  dffd77ec-867f-11e8-96dd-fa565ec55929  2018-07-16T12:19:31Z   \n",
       "4743   200  15b5b4f6-88e4-11e8-b18d-0181731a0340  2018-07-16T10:47:17Z   \n",
       "4744   200  3edccd8e-867c-11e8-a29d-73e3d454535d  2018-07-16T09:47:53Z   \n",
       "4745   200  145428e2-88d3-11e8-b18d-0181731a0340  2018-07-16T09:46:32Z   \n",
       "4746   200  07d0217a-88c9-11e8-bf9e-8771d5404543  2018-07-16T08:32:55Z   \n",
       "4747   200  3641a906-88c0-11e8-bf9e-8771d5404543  2018-07-16T06:46:21Z   \n",
       "4748   200  fc1aab06-85db-11e8-9199-c2a4754b5a0e  2018-07-16T04:00:57Z   \n",
       "4749   200  bff06104-86c4-11e8-a29d-73e3d454535d  2018-07-16T04:00:26Z   \n",
       "4750   200  8cdb7dc6-85f7-11e8-a29d-73e3d454535d  2018-07-16T03:01:06Z   \n",
       "4751   200  54cb115a-843d-11e8-96dd-fa565ec55929  2018-07-16T01:30:24Z   \n",
       "4752   200  a78a97c0-8817-11e8-bf9e-8771d5404543  2018-07-15T16:54:18Z   \n",
       "4753   200  b7856b3e-86b7-11e8-a29d-73e3d454535d  2018-07-15T14:52:36Z   \n",
       "4754   200  d1cb4548-874f-11e8-b18d-0181731a0340  2018-07-15T13:52:38Z   \n",
       "4755   200  44e463b2-868c-11e8-a29d-73e3d454535d  2018-07-15T08:24:42Z   \n",
       "\n",
       "      comment_count                                            authors  \n",
       "0              91.0                                  ['Antonia Cundy']  \n",
       "1             340.0  ['George Parker', 'Jim Brunsden', 'Michael Peel']  \n",
       "2             426.0                                   ['Jim Brunsden']  \n",
       "3              62.0                                                 []  \n",
       "4               NaN                                   ['Laura Hughes']  \n",
       "5               NaN                  ['Nikou Asgari', 'Antonia Cundy']  \n",
       "6               NaN                                ['Sebastian Payne']  \n",
       "7               NaN                                 ['Bronwen Maddox']  \n",
       "8             134.0               ['Murad Ahmed', 'John Burn-Murdoch']  \n",
       "9             140.0                            ['Frederick Studemann']  \n",
       "10              NaN                                   ['Jim Brunsden']  \n",
       "11            266.0                                  ['Robert Wright']  \n",
       "12            830.0                   ['Jim Brunsden', 'Laura Hughes']  \n",
       "13            231.0                                ['Sebastian Payne']  \n",
       "14              NaN                                  ['Robert Wright']  \n",
       "15           1027.0                                  ['Robert Wright']  \n",
       "16              NaN                                   ['Jim Brunsden']  \n",
       "17            278.0                                   ['Jim Brunsden']  \n",
       "18            202.0                                    ['Tony Barber']  \n",
       "19              NaN  ['Jim Brunsden', 'Sebastian Payne', 'Victor Ma...  \n",
       "20            117.0                                     ['David Bond']  \n",
       "21              NaN                                   ['Alan Beattie']  \n",
       "22            124.0                                ['Myles McCormick']  \n",
       "23            269.0                 ['Antonia Cundy', 'Daniel Thomas']  \n",
       "24              NaN                  ['Helen Warrell', 'Michael Peel']  \n",
       "25              NaN  ['Sam Fleming', 'Javier Espinoza', 'Laura Hugh...  \n",
       "26            118.0                                   ['Laura Noonan']  \n",
       "27              NaN                                ['Huw van Steenis']  \n",
       "28              NaN                                 ['Siobhan Riding']  \n",
       "29              NaN                                ['Attracta Mooney']  \n",
       "...             ...                                                ...  \n",
       "4726            NaN                                 ['Nicholas Megaw']  \n",
       "4727            NaN                                   ['Katie Martin']  \n",
       "4728            NaN                              ['Cat Rutter Pooley']  \n",
       "4729            NaN                 ['Jim Pickard', 'Camilla Hodgson']  \n",
       "4730            NaN                                    ['James Blitz']  \n",
       "4731            NaN                  ['Laura Hughes', 'George Parker']  \n",
       "4732            NaN                                ['Peggy Hollinger']  \n",
       "4733            NaN                   ['George Parker', 'Chris Giles']  \n",
       "4734            NaN                                   ['Katie Martin']  \n",
       "4735            NaN             ['Gavin Jackson', 'Cat Rutter Pooley']  \n",
       "4736            NaN                   ['Chris Tighe', 'Gavin Jackson']  \n",
       "4737            NaN                                    ['Alex Barker']  \n",
       "4738            NaN   ['George Parker', 'Laura Hughes', 'Jim Pickard']  \n",
       "4739            NaN                                   ['Pan Kwan Yuk']  \n",
       "4740            NaN                                  ['Robert Wright']  \n",
       "4741            NaN                                    ['James Blitz']  \n",
       "4742            NaN                              ['David Allen Green']  \n",
       "4743            NaN                                    ['Jim Pickard']  \n",
       "4744            NaN                                                 []  \n",
       "4745            NaN                                ['Camilla Hodgson']  \n",
       "4746            NaN                  ['George Parker', 'Katie Martin']  \n",
       "4747            NaN                                   ['Katie Martin']  \n",
       "4748            NaN                                     ['Nick Clegg']  \n",
       "4749            NaN                                ['Patrick Jenkins']  \n",
       "4750            NaN                                  ['Martin Arnold']  \n",
       "4751            NaN                                                 []  \n",
       "4752            NaN                                  ['Jonathan Ford']  \n",
       "4753            NaN                               ['Wolfgang Münchau']  \n",
       "4754            NaN                                    ['Jim Pickard']  \n",
       "4755            NaN                                    ['James Blitz']  \n",
       "\n",
       "[4756 rows x 5 columns]"
      ]
     },
     "execution_count": 85,
     "metadata": {},
     "output_type": "execute_result"
    }
   ],
   "source": [
    "pd.read_csv(\"articles2.csv\")"
   ]
  },
  {
   "cell_type": "code",
   "execution_count": 77,
   "metadata": {},
   "outputs": [
    {
     "data": {
      "text/plain": [
       "6"
      ]
     },
     "execution_count": 77,
     "metadata": {},
     "output_type": "execute_result"
    }
   ],
   "source": [
    "df.authors.apply(len).max()"
   ]
  },
  {
   "cell_type": "code",
   "execution_count": null,
   "metadata": {},
   "outputs": [],
   "source": [
    "files = []\n",
    "for i f in os.listdir(\"raw_articles\"):\n",
    "    "
   ]
  },
  {
   "cell_type": "code",
   "execution_count": 36,
   "metadata": {},
   "outputs": [],
   "source": [
    "df = articles.dropna()"
   ]
  },
  {
   "cell_type": "code",
   "execution_count": 38,
   "metadata": {},
   "outputs": [
    {
     "name": "stderr",
     "output_type": "stream",
     "text": [
      "/home/bnoyt/anaconda3/lib/python3.7/site-packages/pandas/core/generic.py:5096: SettingWithCopyWarning: \n",
      "A value is trying to be set on a copy of a slice from a DataFrame.\n",
      "Try using .loc[row_indexer,col_indexer] = value instead\n",
      "\n",
      "See the caveats in the documentation: http://pandas.pydata.org/pandas-docs/stable/indexing.html#indexing-view-versus-copy\n",
      "  self[name] = value\n"
     ]
    }
   ],
   "source": [
    "df.reference_time = df.reference_time.astype(np.datetime64)"
   ]
  },
  {
   "cell_type": "code",
   "execution_count": 40,
   "metadata": {},
   "outputs": [],
   "source": [
    "import datetime"
   ]
  },
  {
   "cell_type": "code",
   "execution_count": 46,
   "metadata": {},
   "outputs": [
    {
     "name": "stderr",
     "output_type": "stream",
     "text": [
      "/home/bnoyt/anaconda3/lib/python3.7/site-packages/ipykernel_launcher.py:1: SettingWithCopyWarning: \n",
      "A value is trying to be set on a copy of a slice from a DataFrame.\n",
      "Try using .loc[row_indexer,col_indexer] = value instead\n",
      "\n",
      "See the caveats in the documentation: http://pandas.pydata.org/pandas-docs/stable/indexing.html#indexing-view-versus-copy\n",
      "  \"\"\"Entry point for launching an IPython kernel.\n"
     ]
    }
   ],
   "source": [
    "df[\"datenum\"] = df.reference_time.apply(lambda x: pd.to_datetime(datetime.date(x.year,x.month,1)))"
   ]
  },
  {
   "cell_type": "code",
   "execution_count": 47,
   "metadata": {},
   "outputs": [],
   "source": [
    "import matplotlib.pyplot as plt"
   ]
  },
  {
   "cell_type": "code",
   "execution_count": 48,
   "metadata": {},
   "outputs": [
    {
     "name": "stderr",
     "output_type": "stream",
     "text": [
      "/home/bnoyt/anaconda3/lib/python3.7/site-packages/pandas/plotting/_converter.py:129: FutureWarning: Using an implicitly registered datetime converter for a matplotlib plotting method. The converter was registered by pandas on import. Future versions of pandas will require you to explicitly register matplotlib converters.\n",
      "\n",
      "To register the converters:\n",
      "\t>>> from pandas.plotting import register_matplotlib_converters\n",
      "\t>>> register_matplotlib_converters()\n",
      "  warnings.warn(msg, FutureWarning)\n"
     ]
    },
    {
     "data": {
      "text/plain": [
       "[<matplotlib.lines.Line2D at 0x7f9f3ab9e278>]"
      ]
     },
     "execution_count": 48,
     "metadata": {},
     "output_type": "execute_result"
    },
    {
     "data": {
      "image/png": "[encoded data removed]",
      "text/plain": [
       "<Figure size 1080x504 with 1 Axes>"
      ]
     },
     "metadata": {
      "needs_background": "light"
     },
     "output_type": "display_data"
    }
   ],
   "source": [
    "plt.figure(figsize=(15,7))\n",
    "plt.style.use(\"bmh\")\n",
    "\n",
    "plt.plot(df.groupby(\"datenum\").url.count())"
   ]
  },
  {
   "cell_type": "code",
   "execution_count": 20,
   "metadata": {},
   "outputs": [],
   "source": [
    "articles.to_csv(\"articles3.csv\")"
   ]
  }
 ],
 "metadata": {
  "kernelspec": {
   "display_name": "Python 3",
   "language": "python",
   "name": "python3"
  },
  "language_info": {
   "codemirror_mode": {
    "name": "ipython",
    "version": 3
   },
   "file_extension": ".py",
   "mimetype": "text/x-python",
   "name": "python",
   "nbconvert_exporter": "python",
   "pygments_lexer": "ipython3",
   "version": "3.7.3"
  }
 },
 "nbformat": 4,
 "nbformat_minor": 4
}
